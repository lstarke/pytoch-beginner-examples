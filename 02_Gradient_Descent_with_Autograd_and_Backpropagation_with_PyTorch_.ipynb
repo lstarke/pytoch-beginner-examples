{
  "nbformat": 4,
  "nbformat_minor": 0,
  "metadata": {
    "colab": {
      "name": "02-Gradient Descent with Autograd and Backpropagation with PyTorch .ipynb",
      "provenance": [],
      "authorship_tag": "ABX9TyNwSSwx2ZjEZw5DPl/NQsNB",
      "include_colab_link": true
    },
    "kernelspec": {
      "name": "python3",
      "display_name": "Python 3"
    },
    "language_info": {
      "name": "python"
    }
  },
  "cells": [
    {
      "cell_type": "markdown",
      "metadata": {
        "id": "view-in-github",
        "colab_type": "text"
      },
      "source": [
        "<a href=\"https://colab.research.google.com/github/lstarke/pytoch-beginner-examples/blob/main/02_Gradient_Descent_with_Autograd_and_Backpropagation_with_PyTorch_.ipynb\" target=\"_parent\"><img src=\"https://colab.research.google.com/assets/colab-badge.svg\" alt=\"Open In Colab\"/></a>"
      ]
    },
    {
      "cell_type": "code",
      "metadata": {
        "id": "6pAyrD5bhVpW"
      },
      "source": [
        "import torch \n",
        "import torch.nn as nn"
      ],
      "execution_count": 19,
      "outputs": []
    },
    {
      "cell_type": "code",
      "metadata": {
        "id": "aqS_572khfOY",
        "colab": {
          "base_uri": "https://localhost:8080/"
        },
        "outputId": "cd26f593-8d3f-499f-b495-bd4521c614ad"
      },
      "source": [
        "x = torch.tensor([[1], [2], [3], [4]], dtype=torch.float32)\n",
        "y = torch.tensor([[2], [4], [6], [8]], dtype=torch.float32)\n",
        "\n",
        "n_samples, n_features = x.shape\n",
        "print(n_samples, n_features)"
      ],
      "execution_count": 20,
      "outputs": [
        {
          "output_type": "stream",
          "text": [
            "4 1\n"
          ],
          "name": "stdout"
        }
      ]
    },
    {
      "cell_type": "code",
      "metadata": {
        "id": "-HnhqO5gh8G_"
      },
      "source": [
        "input_size = n_features\n",
        "output_size =  n_features\n",
        "\n",
        "x_test = torch.tensor([5], dtype=torch.float32)\n",
        "\n",
        "model = nn.Linear(input_size, output_size)"
      ],
      "execution_count": 21,
      "outputs": []
    },
    {
      "cell_type": "code",
      "metadata": {
        "colab": {
          "base_uri": "https://localhost:8080/"
        },
        "id": "py1Qhalei6BF",
        "outputId": "b1646b57-efc5-47eb-b084-5952993b1dff"
      },
      "source": [
        "print(f'Prediction before training f(5) = {model(x_test).item():.3f}')"
      ],
      "execution_count": 11,
      "outputs": [
        {
          "output_type": "stream",
          "text": [
            "Prediction before training f(5) = 0.000\n"
          ],
          "name": "stdout"
        }
      ]
    },
    {
      "cell_type": "code",
      "metadata": {
        "colab": {
          "base_uri": "https://localhost:8080/"
        },
        "id": "4d-lWpoIjZEn",
        "outputId": "1d75c8bd-5030-4e96-d354-a9a3a8e88954"
      },
      "source": [
        "lr = 0.01 # learning rate\n",
        "n_iters = 200\n",
        "\n",
        "loss = nn.MSELoss()\n",
        "optimizer = torch.optim.SGD(model.parameters(), lr=lr)\n",
        "\n",
        "for epoch in range(n_iters):\n",
        "  # prediction = forward pass\n",
        "  y_pred = model(x)\n",
        "\n",
        "  # loss\n",
        "  l = loss(y, y_pred)\n",
        "\n",
        "  # gradients = backward pass\n",
        "  l.backward()\n",
        "\n",
        "  # update wights\n",
        "  optimizer.step()\n",
        "\n",
        "  # zero gradients\n",
        "  optimizer.zero_grad()\n",
        "\n",
        "  if epoch % 10 == 0:\n",
        "    [w, b] = model.parameters()\n",
        "    print(f'epoch {epoch+1}: w = {w[0][0]:.3f}, loss = {l:.8f}')\n",
        "\n",
        "print(f'Prediction after training f(5) = {model(x_test).item():.3f}')"
      ],
      "execution_count": 22,
      "outputs": [
        {
          "output_type": "stream",
          "text": [
            "epoch 1: w = -0.123, loss = 49.51055908\n",
            "epoch 11: w = 1.493, loss = 1.33625865\n",
            "epoch 21: w = 1.758, loss = 0.08665530\n",
            "epoch 31: w = 1.806, loss = 0.05129355\n",
            "epoch 41: w = 1.818, loss = 0.04752363\n",
            "epoch 51: w = 1.824, loss = 0.04473718\n",
            "epoch 61: w = 1.830, loss = 0.04213271\n",
            "epoch 71: w = 1.835, loss = 0.03968038\n",
            "epoch 81: w = 1.840, loss = 0.03737079\n",
            "epoch 91: w = 1.844, loss = 0.03519560\n",
            "epoch 101: w = 1.849, loss = 0.03314703\n",
            "epoch 111: w = 1.853, loss = 0.03121771\n",
            "epoch 121: w = 1.858, loss = 0.02940067\n",
            "epoch 131: w = 1.862, loss = 0.02768939\n",
            "epoch 141: w = 1.866, loss = 0.02607776\n",
            "epoch 151: w = 1.870, loss = 0.02455987\n",
            "epoch 161: w = 1.874, loss = 0.02313037\n",
            "epoch 171: w = 1.878, loss = 0.02178405\n",
            "epoch 181: w = 1.881, loss = 0.02051612\n",
            "epoch 191: w = 1.885, loss = 0.01932200\n",
            "Prediction after training f(5) = 9.769\n"
          ],
          "name": "stdout"
        }
      ]
    },
    {
      "cell_type": "code",
      "metadata": {
        "id": "phUEucKYjq2r"
      },
      "source": [
        ""
      ],
      "execution_count": null,
      "outputs": []
    }
  ]
}